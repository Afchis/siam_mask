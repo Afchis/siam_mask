{
 "cells": [
  {
   "cell_type": "code",
   "execution_count": 62,
   "metadata": {},
   "outputs": [],
   "source": [
    "import torch\n",
    "import torch.nn as nn\n",
    "import torch.nn.functional as F\n",
    "\n",
    "from torchvision import models"
   ]
  },
  {
   "cell_type": "code",
   "execution_count": 63,
   "metadata": {},
   "outputs": [],
   "source": [
    "search = torch.randn(1, 3, 255, 255)\n",
    "tample = torch.randn(1, 3, 127, 127)"
   ]
  },
  {
   "cell_type": "code",
   "execution_count": 64,
   "metadata": {},
   "outputs": [],
   "source": [
    "IN_CHANNELS = 3"
   ]
  },
  {
   "cell_type": "code",
   "execution_count": 65,
   "metadata": {},
   "outputs": [],
   "source": [
    "def Correlation_func(x, kernel):\n",
    "    x = x.view(1, -1, x.size(2), x.size(3))  # 1 * (b*c) * k * k\n",
    "    kernel = kernel.view(-1, 1, kernel.size(2), kernel.size(3))  # (b*c) * 1 * H * W\n",
    "    out = F.conv2d(x, kernel, groups=x.size(1))\n",
    "    out = out.view(1, x.size(1), out.size(2), out.size(3))\n",
    "    return out"
   ]
  },
  {
   "cell_type": "code",
   "execution_count": 82,
   "metadata": {},
   "outputs": [],
   "source": [
    "base_model = models.resnet50(pretrained=True)\n",
    "base_layers = list(base_model.children())\n",
    "\n",
    "class Feat_extractor(nn.Module):\n",
    "    def __init__(self, out_channels=256):\n",
    "        super(Feat_extractor, self).__init__()\n",
    "        self.backbone_list = base_layers[0:7]\n",
    "        self.search_bb = nn.Sequential(*self.backbone_list[0:7], \n",
    "                                       nn.Conv2d(1024, out_channels, kernel_size=1, bias=False)\n",
    "                                       )\n",
    "        self.kernel_bb = nn.Sequential(*self.backbone_list[0:7],\n",
    "                                       nn.Conv2d(1024, out_channels, kernel_size=1, bias=False)\n",
    "                                       )\n",
    "        \n",
    "    def forward(self, search, kernel):\n",
    "        search = self.convrelu1(search)\n",
    "        kernel = self.convrelu1(kernel)\n",
    "        return search, kernel\n",
    "        "
   ]
  },
  {
   "cell_type": "code",
   "execution_count": 83,
   "metadata": {},
   "outputs": [],
   "source": [
    "model = Feat_extractor()"
   ]
  },
  {
   "cell_type": "code",
   "execution_count": null,
   "metadata": {},
   "outputs": [],
   "source": []
  },
  {
   "cell_type": "code",
   "execution_count": null,
   "metadata": {},
   "outputs": [],
   "source": []
  },
  {
   "cell_type": "code",
   "execution_count": null,
   "metadata": {},
   "outputs": [],
   "source": []
  }
 ],
 "metadata": {
  "kernelspec": {
   "display_name": "Python 3",
   "language": "python",
   "name": "python3"
  },
  "language_info": {
   "codemirror_mode": {
    "name": "ipython",
    "version": 3
   },
   "file_extension": ".py",
   "mimetype": "text/x-python",
   "name": "python",
   "nbconvert_exporter": "python",
   "pygments_lexer": "ipython3",
   "version": "3.6.8"
  }
 },
 "nbformat": 4,
 "nbformat_minor": 4
}
